{
  "cells": [
    {
      "cell_type": "code",
      "execution_count": 14,
      "metadata": {
        "colab": {
          "base_uri": "https://localhost:8080/",
          "height": 695,
          "referenced_widgets": [
            "e7f577ea3acd4b6989cff033c25214ce",
            "eb5061ac452d4a83bba0d5d16a58dec4",
            "e0871174b2fd441e9aa862892c21ca72",
            "63a4fb44fdd347fe8f56872ebbf8f16e",
            "28c274179f054dc1b2c4a4e4801eea6d",
            "a2a1cb8a23454e2b9583643f6b6b65e6",
            "acfaeda6d2d44ce8ba22aa7a44e91d77",
            "a7951c6be71741f29a4322e233b780d0",
            "312e536c6e1648e3a27329bca77eb36d",
            "2f1f37bce49845f4bfe35bf54a65ff79",
            "2c7ec14f216a43f99339697e0a1d2642"
          ]
        },
        "id": "7RHNVwPQzxeu",
        "outputId": "5fee235b-9e7d-450e-cb56-607927463cba"
      },
      "outputs": [
        {
          "name": "stderr",
          "output_type": "stream",
          "text": [
            "Parsing nodes: 100%|██████████| 1/1 [00:00<00:00, 10.30it/s]\n"
          ]
        },
        {
          "name": "stdout",
          "output_type": "stream",
          "text": [
            "PDF carregado com sucesso.\n",
            "* Running on local URL:  http://127.0.0.1:7861\n",
            "\n",
            "To create a public link, set `share=True` in `launch()`.\n"
          ]
        },
        {
          "data": {
            "text/html": [
              "<div><iframe src=\"http://127.0.0.1:7861/\" width=\"100%\" height=\"500\" allow=\"autoplay; camera; microphone; clipboard-read; clipboard-write;\" frameborder=\"0\" allowfullscreen></iframe></div>"
            ],
            "text/plain": [
              "<IPython.core.display.HTML object>"
            ]
          },
          "metadata": {},
          "output_type": "display_data"
        }
      ],
      "source": [
        "import os\n",
        "import gradio as gr\n",
        "from typing import List\n",
        "from llama_index.core import SimpleDirectoryReader, StorageContext, VectorStoreIndex\n",
        "from llama_index.core.node_parser import SentenceSplitter\n",
        "from llama_index.embeddings.huggingface import HuggingFaceEmbedding\n",
        "from llama_index.vector_stores.chroma import ChromaVectorStore\n",
        "from llama_index.llms.groq import Groq\n",
        "from llama_index.core.memory import ChatSummaryMemoryBuffer\n",
        "import chromadb\n",
        "from tempfile import TemporaryDirectory\n",
        "from PyPDF2 import PdfReader\n",
        "\n",
        "# Wrapper de embedding compatível com ChromaDB\n",
        "class ChromaEmbeddingWrapper:\n",
        "    def __init__(self, model_name: str):\n",
        "        self.model = HuggingFaceEmbedding(model_name=model_name)\n",
        "\n",
        "    def __call__(self, input: List[str]) -> List[List[float]]:\n",
        "        return self.model.embed_documents(input)\n",
        "\n",
        "# Inicializa modelos de embedding\n",
        "embed_model = HuggingFaceEmbedding(model_name='intfloat/multilingual-e5-large')\n",
        "embed_model_chroma = ChromaEmbeddingWrapper(model_name='intfloat/multilingual-e5-large')\n",
        "\n",
        "# Inicializa ChromaDB\n",
        "chroma_client = chromadb.PersistentClient(path='./chroma_db')\n",
        "collection_name = 'documentos_serenatto'\n",
        "chroma_collection = chroma_client.get_or_create_collection(\n",
        "    name=collection_name,\n",
        "    embedding_function=embed_model_chroma\n",
        ")\n",
        "\n",
        "vector_store = ChromaVectorStore(chroma_collection=chroma_collection)\n",
        "storage_context = StorageContext.from_defaults(vector_store=vector_store)\n",
        "\n",
        "# Inicializa LLM da Groq\n",
        "Groq_api = os.environ.get(\"GROQ_API_KEY\")\n",
        "llms = Groq(model='llama3-70b-8192', api_key='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')\n",
        "\n",
        "# Estados globais\n",
        "document_index = None\n",
        "chat_engine = None\n",
        "\n",
        "# Carregamento único do PDF\n",
        "def carregar_pdf_inicial():\n",
        "    global document_index, chat_engine\n",
        "\n",
        "    try:\n",
        "        with TemporaryDirectory() as tmpdir:\n",
        "            pdf_path = \"documentos/serenatto.pdf\"\n",
        "            text = \"\"\n",
        "            reader = PdfReader(pdf_path)\n",
        "            for page in reader.pages:\n",
        "                text += page.extract_text() or \"\"\n",
        "\n",
        "            with open(os.path.join(tmpdir, \"temp.txt\"), \"w\", encoding=\"utf-8\") as f:\n",
        "                f.write(text)\n",
        "\n",
        "            documentos = SimpleDirectoryReader(input_dir=tmpdir)\n",
        "            docs = documentos.load_data()\n",
        "\n",
        "            node_parser = SentenceSplitter(chunk_size=1200)\n",
        "            nodes = node_parser.get_nodes_from_documents(docs, show_progress=True)\n",
        "\n",
        "            document_index = VectorStoreIndex(nodes, storage_context=storage_context, embed_model=embed_model)\n",
        "\n",
        "            memory = ChatSummaryMemoryBuffer(llm=llms, token_limit=256)\n",
        "\n",
        "            chat_engine = document_index.as_chat_engine(\n",
        "                chat_mode='context',\n",
        "                llm=llms,\n",
        "                memory=memory,\n",
        "                system_prompt='''Você é especialista em cafés da loja Serenatto. Responda de forma simpática e natural sobre os grãos disponíveis.'''\n",
        "            )\n",
        "\n",
        "            print(\"PDF carregado com sucesso.\")\n",
        "\n",
        "    except Exception as e:\n",
        "        print(f\"Erro ao carregar PDF: {e}\")\n",
        "\n",
        "# Função de chat\n",
        "def converse_com_bot(message, chat_history):\n",
        "    global chat_engine\n",
        "\n",
        "    if chat_engine is None:\n",
        "        return \"Erro: o bot ainda não está pronto.\", chat_history\n",
        "\n",
        "    response = chat_engine.chat(message)\n",
        "\n",
        "    if chat_history is None:\n",
        "        chat_history = []\n",
        "\n",
        "    chat_history.append({\"role\": \"user\", \"content\": message})\n",
        "    chat_history.append({\"role\": \"assistant\", \"content\": response.response})\n",
        "\n",
        "    return \"\", chat_history\n",
        "\n",
        "# Resetar conversa\n",
        "def resetar_chat():\n",
        "    global chat_engine\n",
        "    if chat_engine:\n",
        "        chat_engine.reset()\n",
        "    return []\n",
        "\n",
        "# Carregar PDF na inicialização\n",
        "carregar_pdf_inicial()\n",
        "\n",
        "# Interface Gradio\n",
        "with gr.Blocks() as app:\n",
        "    gr.Markdown(\"# ☕ Chatbot Serenatto – Especialista em Cafés\")\n",
        "\n",
        "    chatbot = gr.Chatbot(label=\"Conversa\", type=\"messages\")\n",
        "    msg = gr.Textbox(label='Digite a sua mensagem')\n",
        "    limpar = gr.Button('Limpar')\n",
        "\n",
        "    msg.submit(converse_com_bot, [msg, chatbot], [msg, chatbot])\n",
        "    limpar.click(resetar_chat, None, chatbot, queue=False)\n",
        "\n",
        "    app.launch()\n"
      ]
    },
    {
      "cell_type": "code",
      "execution_count": 1,
      "metadata": {
        "colab": {
          "base_uri": "https://localhost:8080/"
        },
        "id": "c_-AJqliz03w",
        "outputId": "59c33a20-b106-4330-f0f2-670625c1d4d7"
      },
      "outputs": [
        {
          "name": "stderr",
          "output_type": "stream",
          "text": [
            "\n",
            "[notice] A new release of pip is available: 24.3.1 -> 25.0.1\n",
            "[notice] To update, run: python.exe -m pip install --upgrade pip\n"
          ]
        }
      ],
      "source": [
        "\n",
        "!pip install -q gradio"
      ]
    },
    {
      "cell_type": "code",
      "execution_count": 2,
      "metadata": {
        "colab": {
          "base_uri": "https://localhost:8080/"
        },
        "id": "0Mm8V2-w0DPC",
        "outputId": "2a05a8cd-2b36-4673-a5c2-68794fe5f964"
      },
      "outputs": [
        {
          "name": "stderr",
          "output_type": "stream",
          "text": [
            "\n",
            "[notice] A new release of pip is available: 24.3.1 -> 25.0.1\n",
            "[notice] To update, run: python.exe -m pip install --upgrade pip\n"
          ]
        }
      ],
      "source": [
        "!pip install -q llama-index"
      ]
    },
    {
      "cell_type": "code",
      "execution_count": 3,
      "metadata": {
        "colab": {
          "base_uri": "https://localhost:8080/"
        },
        "id": "ziaLbQVg0D6-",
        "outputId": "a9c27550-d3d1-4fd5-b90d-348c7909f128"
      },
      "outputs": [
        {
          "name": "stderr",
          "output_type": "stream",
          "text": [
            "\n",
            "[notice] A new release of pip is available: 24.3.1 -> 25.0.1\n",
            "[notice] To update, run: python.exe -m pip install --upgrade pip\n"
          ]
        }
      ],
      "source": [
        "\n",
        " !pip install -q llama-index-embeddings-huggingface"
      ]
    },
    {
      "cell_type": "code",
      "execution_count": 4,
      "metadata": {
        "colab": {
          "base_uri": "https://localhost:8080/"
        },
        "id": "0o4PMX960Gu-",
        "outputId": "3cf65513-56ba-48f0-ee91-7f3e4453db68"
      },
      "outputs": [
        {
          "name": "stderr",
          "output_type": "stream",
          "text": [
            "\n",
            "[notice] A new release of pip is available: 24.3.1 -> 25.0.1\n",
            "[notice] To update, run: python.exe -m pip install --upgrade pip\n"
          ]
        }
      ],
      "source": [
        "!pip install -q llama-index-vector-stores-chroma"
      ]
    },
    {
      "cell_type": "code",
      "execution_count": 5,
      "metadata": {
        "id": "YjDxRGQF0Ji8"
      },
      "outputs": [
        {
          "name": "stderr",
          "output_type": "stream",
          "text": [
            "\n",
            "[notice] A new release of pip is available: 24.3.1 -> 25.0.1\n",
            "[notice] To update, run: python.exe -m pip install --upgrade pip\n"
          ]
        }
      ],
      "source": [
        "\n",
        "!pip install -q  chromadb"
      ]
    },
    {
      "cell_type": "code",
      "execution_count": 6,
      "metadata": {
        "id": "ebbKQzSm0Lqy"
      },
      "outputs": [
        {
          "name": "stderr",
          "output_type": "stream",
          "text": [
            "\n",
            "[notice] A new release of pip is available: 24.3.1 -> 25.0.1\n",
            "[notice] To update, run: python.exe -m pip install --upgrade pip\n"
          ]
        }
      ],
      "source": [
        "\n",
        "!pip install -q llama-index-llms-groq"
      ]
    },
    {
      "cell_type": "code",
      "execution_count": 7,
      "metadata": {
        "colab": {
          "base_uri": "https://localhost:8080/"
        },
        "id": "ncV30UzS0OTw",
        "outputId": "d02d9edf-9f6a-4c22-e5b2-f7bbc10b629b"
      },
      "outputs": [
        {
          "name": "stderr",
          "output_type": "stream",
          "text": [
            "\n",
            "[notice] A new release of pip is available: 24.3.1 -> 25.0.1\n",
            "[notice] To update, run: python.exe -m pip install --upgrade pip\n"
          ]
        }
      ],
      "source": [
        "\n",
        "!pip install -q PyPDF2"
      ]
    },
    {
      "cell_type": "code",
      "execution_count": null,
      "metadata": {
        "id": "TcYdRpLO0QfJ"
      },
      "outputs": [],
      "source": [
        "#pip install nbformat==5.10.4\n"
      ]
    },
    {
      "cell_type": "code",
      "execution_count": 13,
      "metadata": {},
      "outputs": [
        {
          "name": "stdout",
          "output_type": "stream",
          "text": [
            "Note: you may need to restart the kernel to use updated packages.\n"
          ]
        },
        {
          "name": "stderr",
          "output_type": "stream",
          "text": [
            "\n",
            "[notice] A new release of pip is available: 24.3.1 -> 25.0.1\n",
            "[notice] To update, run: python.exe -m pip install --upgrade pip\n"
          ]
        }
      ],
      "source": [
        "pip install -q nbconvert==v7.16.6"
      ]
    }
  ],
  "metadata": {
    "colab": {
      "provenance": [],
      "toc_visible": true
    },
    "kernelspec": {
      "display_name": "Python 3",
      "name": "python3"
    },
    "language_info": {
      "codemirror_mode": {
        "name": "ipython",
        "version": 3
      },
      "file_extension": ".py",
      "mimetype": "text/x-python",
      "name": "python",
      "nbconvert_exporter": "python",
      "pygments_lexer": "ipython3",
      "version": "3.13.2"
    },
    "widgets": {
      "application/vnd.jupyter.widget-state+json": {
        "28c274179f054dc1b2c4a4e4801eea6d": {
          "model_module": "@jupyter-widgets/base",
          "model_module_version": "1.2.0",
          "model_name": "LayoutModel",
          "state": {
            "_model_module": "@jupyter-widgets/base",
            "_model_module_version": "1.2.0",
            "_model_name": "LayoutModel",
            "_view_count": null,
            "_view_module": "@jupyter-widgets/base",
            "_view_module_version": "1.2.0",
            "_view_name": "LayoutView",
            "align_content": null,
            "align_items": null,
            "align_self": null,
            "border": null,
            "bottom": null,
            "display": null,
            "flex": null,
            "flex_flow": null,
            "grid_area": null,
            "grid_auto_columns": null,
            "grid_auto_flow": null,
            "grid_auto_rows": null,
            "grid_column": null,
            "grid_gap": null,
            "grid_row": null,
            "grid_template_areas": null,
            "grid_template_columns": null,
            "grid_template_rows": null,
            "height": null,
            "justify_content": null,
            "justify_items": null,
            "left": null,
            "margin": null,
            "max_height": null,
            "max_width": null,
            "min_height": null,
            "min_width": null,
            "object_fit": null,
            "object_position": null,
            "order": null,
            "overflow": null,
            "overflow_x": null,
            "overflow_y": null,
            "padding": null,
            "right": null,
            "top": null,
            "visibility": null,
            "width": null
          }
        },
        "2c7ec14f216a43f99339697e0a1d2642": {
          "model_module": "@jupyter-widgets/controls",
          "model_module_version": "1.5.0",
          "model_name": "DescriptionStyleModel",
          "state": {
            "_model_module": "@jupyter-widgets/controls",
            "_model_module_version": "1.5.0",
            "_model_name": "DescriptionStyleModel",
            "_view_count": null,
            "_view_module": "@jupyter-widgets/base",
            "_view_module_version": "1.2.0",
            "_view_name": "StyleView",
            "description_width": ""
          }
        },
        "2f1f37bce49845f4bfe35bf54a65ff79": {
          "model_module": "@jupyter-widgets/base",
          "model_module_version": "1.2.0",
          "model_name": "LayoutModel",
          "state": {
            "_model_module": "@jupyter-widgets/base",
            "_model_module_version": "1.2.0",
            "_model_name": "LayoutModel",
            "_view_count": null,
            "_view_module": "@jupyter-widgets/base",
            "_view_module_version": "1.2.0",
            "_view_name": "LayoutView",
            "align_content": null,
            "align_items": null,
            "align_self": null,
            "border": null,
            "bottom": null,
            "display": null,
            "flex": null,
            "flex_flow": null,
            "grid_area": null,
            "grid_auto_columns": null,
            "grid_auto_flow": null,
            "grid_auto_rows": null,
            "grid_column": null,
            "grid_gap": null,
            "grid_row": null,
            "grid_template_areas": null,
            "grid_template_columns": null,
            "grid_template_rows": null,
            "height": null,
            "justify_content": null,
            "justify_items": null,
            "left": null,
            "margin": null,
            "max_height": null,
            "max_width": null,
            "min_height": null,
            "min_width": null,
            "object_fit": null,
            "object_position": null,
            "order": null,
            "overflow": null,
            "overflow_x": null,
            "overflow_y": null,
            "padding": null,
            "right": null,
            "top": null,
            "visibility": null,
            "width": null
          }
        },
        "312e536c6e1648e3a27329bca77eb36d": {
          "model_module": "@jupyter-widgets/controls",
          "model_module_version": "1.5.0",
          "model_name": "ProgressStyleModel",
          "state": {
            "_model_module": "@jupyter-widgets/controls",
            "_model_module_version": "1.5.0",
            "_model_name": "ProgressStyleModel",
            "_view_count": null,
            "_view_module": "@jupyter-widgets/base",
            "_view_module_version": "1.2.0",
            "_view_name": "StyleView",
            "bar_color": null,
            "description_width": ""
          }
        },
        "63a4fb44fdd347fe8f56872ebbf8f16e": {
          "model_module": "@jupyter-widgets/controls",
          "model_module_version": "1.5.0",
          "model_name": "HTMLModel",
          "state": {
            "_dom_classes": [],
            "_model_module": "@jupyter-widgets/controls",
            "_model_module_version": "1.5.0",
            "_model_name": "HTMLModel",
            "_view_count": null,
            "_view_module": "@jupyter-widgets/controls",
            "_view_module_version": "1.5.0",
            "_view_name": "HTMLView",
            "description": "",
            "description_tooltip": null,
            "layout": "IPY_MODEL_2f1f37bce49845f4bfe35bf54a65ff79",
            "placeholder": "​",
            "style": "IPY_MODEL_2c7ec14f216a43f99339697e0a1d2642",
            "value": " 1/1 [00:01&lt;00:00,  1.66s/it]"
          }
        },
        "a2a1cb8a23454e2b9583643f6b6b65e6": {
          "model_module": "@jupyter-widgets/base",
          "model_module_version": "1.2.0",
          "model_name": "LayoutModel",
          "state": {
            "_model_module": "@jupyter-widgets/base",
            "_model_module_version": "1.2.0",
            "_model_name": "LayoutModel",
            "_view_count": null,
            "_view_module": "@jupyter-widgets/base",
            "_view_module_version": "1.2.0",
            "_view_name": "LayoutView",
            "align_content": null,
            "align_items": null,
            "align_self": null,
            "border": null,
            "bottom": null,
            "display": null,
            "flex": null,
            "flex_flow": null,
            "grid_area": null,
            "grid_auto_columns": null,
            "grid_auto_flow": null,
            "grid_auto_rows": null,
            "grid_column": null,
            "grid_gap": null,
            "grid_row": null,
            "grid_template_areas": null,
            "grid_template_columns": null,
            "grid_template_rows": null,
            "height": null,
            "justify_content": null,
            "justify_items": null,
            "left": null,
            "margin": null,
            "max_height": null,
            "max_width": null,
            "min_height": null,
            "min_width": null,
            "object_fit": null,
            "object_position": null,
            "order": null,
            "overflow": null,
            "overflow_x": null,
            "overflow_y": null,
            "padding": null,
            "right": null,
            "top": null,
            "visibility": null,
            "width": null
          }
        },
        "a7951c6be71741f29a4322e233b780d0": {
          "model_module": "@jupyter-widgets/base",
          "model_module_version": "1.2.0",
          "model_name": "LayoutModel",
          "state": {
            "_model_module": "@jupyter-widgets/base",
            "_model_module_version": "1.2.0",
            "_model_name": "LayoutModel",
            "_view_count": null,
            "_view_module": "@jupyter-widgets/base",
            "_view_module_version": "1.2.0",
            "_view_name": "LayoutView",
            "align_content": null,
            "align_items": null,
            "align_self": null,
            "border": null,
            "bottom": null,
            "display": null,
            "flex": null,
            "flex_flow": null,
            "grid_area": null,
            "grid_auto_columns": null,
            "grid_auto_flow": null,
            "grid_auto_rows": null,
            "grid_column": null,
            "grid_gap": null,
            "grid_row": null,
            "grid_template_areas": null,
            "grid_template_columns": null,
            "grid_template_rows": null,
            "height": null,
            "justify_content": null,
            "justify_items": null,
            "left": null,
            "margin": null,
            "max_height": null,
            "max_width": null,
            "min_height": null,
            "min_width": null,
            "object_fit": null,
            "object_position": null,
            "order": null,
            "overflow": null,
            "overflow_x": null,
            "overflow_y": null,
            "padding": null,
            "right": null,
            "top": null,
            "visibility": null,
            "width": null
          }
        },
        "acfaeda6d2d44ce8ba22aa7a44e91d77": {
          "model_module": "@jupyter-widgets/controls",
          "model_module_version": "1.5.0",
          "model_name": "DescriptionStyleModel",
          "state": {
            "_model_module": "@jupyter-widgets/controls",
            "_model_module_version": "1.5.0",
            "_model_name": "DescriptionStyleModel",
            "_view_count": null,
            "_view_module": "@jupyter-widgets/base",
            "_view_module_version": "1.2.0",
            "_view_name": "StyleView",
            "description_width": ""
          }
        },
        "e0871174b2fd441e9aa862892c21ca72": {
          "model_module": "@jupyter-widgets/controls",
          "model_module_version": "1.5.0",
          "model_name": "FloatProgressModel",
          "state": {
            "_dom_classes": [],
            "_model_module": "@jupyter-widgets/controls",
            "_model_module_version": "1.5.0",
            "_model_name": "FloatProgressModel",
            "_view_count": null,
            "_view_module": "@jupyter-widgets/controls",
            "_view_module_version": "1.5.0",
            "_view_name": "ProgressView",
            "bar_style": "success",
            "description": "",
            "description_tooltip": null,
            "layout": "IPY_MODEL_a7951c6be71741f29a4322e233b780d0",
            "max": 1,
            "min": 0,
            "orientation": "horizontal",
            "style": "IPY_MODEL_312e536c6e1648e3a27329bca77eb36d",
            "value": 1
          }
        },
        "e7f577ea3acd4b6989cff033c25214ce": {
          "model_module": "@jupyter-widgets/controls",
          "model_module_version": "1.5.0",
          "model_name": "HBoxModel",
          "state": {
            "_dom_classes": [],
            "_model_module": "@jupyter-widgets/controls",
            "_model_module_version": "1.5.0",
            "_model_name": "HBoxModel",
            "_view_count": null,
            "_view_module": "@jupyter-widgets/controls",
            "_view_module_version": "1.5.0",
            "_view_name": "HBoxView",
            "box_style": "",
            "children": [
              "IPY_MODEL_eb5061ac452d4a83bba0d5d16a58dec4",
              "IPY_MODEL_e0871174b2fd441e9aa862892c21ca72",
              "IPY_MODEL_63a4fb44fdd347fe8f56872ebbf8f16e"
            ],
            "layout": "IPY_MODEL_28c274179f054dc1b2c4a4e4801eea6d"
          }
        },
        "eb5061ac452d4a83bba0d5d16a58dec4": {
          "model_module": "@jupyter-widgets/controls",
          "model_module_version": "1.5.0",
          "model_name": "HTMLModel",
          "state": {
            "_dom_classes": [],
            "_model_module": "@jupyter-widgets/controls",
            "_model_module_version": "1.5.0",
            "_model_name": "HTMLModel",
            "_view_count": null,
            "_view_module": "@jupyter-widgets/controls",
            "_view_module_version": "1.5.0",
            "_view_name": "HTMLView",
            "description": "",
            "description_tooltip": null,
            "layout": "IPY_MODEL_a2a1cb8a23454e2b9583643f6b6b65e6",
            "placeholder": "​",
            "style": "IPY_MODEL_acfaeda6d2d44ce8ba22aa7a44e91d77",
            "value": "Parsing nodes: 100%"
          }
        }
      }
    }
  },
  "nbformat": 4,
  "nbformat_minor": 0
}
