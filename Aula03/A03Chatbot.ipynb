{
 "cells": [
  {
   "cell_type": "code",
   "execution_count": null,
   "metadata": {},
   "outputs": [],
   "source": [
    "# instalaçao da biblioteca Groq\n",
    "!pip install groq"
   ]
  },
  {
   "cell_type": "code",
   "execution_count": 3,
   "metadata": {},
   "outputs": [],
   "source": [
    "from groq import Groq # realiza a importaçao da biblioteca necessaria para rodar a LLM\n",
    "#Inicializa o cliente com a chave da \n",
    "client = Groq(api_key='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')\n",
    "completion = client.chat.completions.create(\n",
    "  model=\"llama3-8b-8192\",\n",
    "  messages=[\n",
    "     {\"role\":\"system\",\"content\":\"Voce é assistente de agricultor\"},\n",
    "     {\"role\":\"user\",\"content\":\"Qual a semente indicada para \\n no solo arenoso em maio\"}\n",
    "\n",
    "  ],  \n",
    "  temperature=0,\n",
    "  max_tokens=1024, #ajusta o token,\n",
    "  top_p=1,\n",
    "  stream = False\n",
    "\n",
    ")"
   ]
  },
  {
   "cell_type": "code",
   "execution_count": 4,
   "metadata": {},
   "outputs": [
    {
     "name": "stdout",
     "output_type": "stream",
     "text": [
      "Um excelente questionário!\n",
      "\n",
      "Para um solo arenoso em maio, eu recomendaria sementes que sejam resistentes ao calor e à seca, e que tenham uma boa capacidade de absorção de água. Aqui estão algumas opções de sementes que devem funcionar bem:\n",
      "\n",
      "1. Sementes de milho: O milho é uma cultura muito comum em solos arenosos e é resistente ao calor e à seca. Ele também é uma boa opção para maio, pois é uma época de crescimento rápido para a cultura.\n",
      "2. Sementes de feijão: O feijão é outro grão que se adapta bem a solos arenosos e é resistente ao calor e à seca. Ele também é uma boa opção para maio, pois é uma época de crescimento rápido para a cultura.\n",
      "3. Sementes de soja: A soja é uma cultura que se adapta bem a solos arenosos e é resistente ao calor e à seca. Ela também é uma boa opção para maio, pois é uma época de crescimento rápido para a cultura.\n",
      "4. Sementes de girassol: O girassol é uma cultura que se adapta bem a solos arenosos e é resistente ao calor e à seca. Ele também é uma boa opção para maio, pois é uma época de crescimento rápido para a cultura.\n",
      "5. Sementes de alfafa: A alfafa é uma cultura que se adapta bem a solos arenosos e é resistente ao calor e à seca. Ela também é uma boa opção para maio, pois é uma época de crescimento rápido para a cultura.\n",
      "\n",
      "Lembre-se de que é importante verificar as condições climáticas locais e as necessidades específicas da cultura antes de plantar. Além disso, é sempre uma boa ideia consultar um especialista em agricultura ou um consultor agrícola para obter orientação mais específica para o seu local.\n"
     ]
    }
   ],
   "source": [
    "# exibe a resposta gerada\n",
    "print(completion.choices[0].message.content)"
   ]
  },
  {
   "cell_type": "code",
   "execution_count": 1,
   "metadata": {},
   "outputs": [],
   "source": [
    "import os # biblioteca do sistema operacional\n",
    "from groq import Groq\n",
    "\n"
   ]
  },
  {
   "cell_type": "code",
   "execution_count": 9,
   "metadata": {},
   "outputs": [
    {
     "name": "stdout",
     "output_type": "stream",
     "text": [
      "\n",
      " Resposta do assistente: \n",
      "\n",
      "Excelente escolha!\n",
      "\n",
      "A Porsche é uma marca de luxo conhecida por seus carros esportivos e de alta performance. O consumo de combustível dos carros Porsche pode variar dependendo do modelo, ano e configuração. Aqui estão alguns exemplos de consumo de combustível de alguns modelos de Porsche:\n",
      "\n",
      "**Porsche 911**\n",
      "\n",
      "* Porsche 911 Carrera (3.0L): 9,4L/100km (combustível: gasolina)\n",
      "* Porsche 911 Carrera S (3.0L): 9,7L/100km (combustível: gasolina)\n",
      "* Porsche 911 Turbo (3.8L): 11,4L/100km (combustível: gasolina)\n",
      "\n",
      "**Porsche Boxster**\n",
      "\n",
      "* Porsche Boxster (2.7L): 8,4L/100km (combustível: gasolina)\n",
      "* Porsche Boxster S (3.4L): 9,1L/100km (combustível: gasolina)\n",
      "\n",
      "**Porsche Cayman**\n",
      "\n",
      "* Porsche Cayman (2.7L): 8,4L/100km (combustível: gasolina)\n",
      "* Porsche Cayman S (3.4L): 9,1L/100km (combustível: gasolina)\n",
      "\n",
      "**Porsche Macan**\n",
      "\n",
      "* Porsche Macan (2.0L): 7,4L/100km (combustível: gasolina)\n",
      "* Porsche Macan S (3.0L): 8,1L/100km (combustível: gasolina)\n",
      "\n",
      "**Porsche Cayenne**\n",
      "\n",
      "* Porsche Cayenne (3.0L): 9,4L/100km (combustível: gasolina)\n",
      "* Porsche Cayenne S (3.6L): 10,2L/100km (combustível: gasolina)\n",
      "* Porsche Cayenne Turbo (4.8L): 12,4L/100km (combustível: gasolina)\n",
      "\n",
      "Lembre-se de que esses valores são apenas estimativas e podem variar dependendo das condições de uso e do estilo de condução. Além disso, é importante lembrar que os carros Porsche são projetados para serem carros esportivos e de alta performance, o que pode afetar o consumo de combustível.\n",
      "\n",
      "\n",
      " Resposta do assistente: \n",
      "\n",
      "Excelente pergunta!\n",
      "\n",
      "Para comparar a economia entre uma Kawasaki Ninja 1100 e um Honda Hornet 600, precisamos considerar alguns fatores, como a potência, o peso, a eficiência do motor e a velocidade máxima.\n",
      "\n",
      "A Kawasaki Ninja 1100 é uma motocicleta esportiva com um motor de 4 cilindros, 1.043cc, que produz 142 cv de potência. Já o Honda Hornet 600 é uma motocicleta de estrada com um motor de 4 cilindros, 588cc, que produz 77 cv de potência.\n",
      "\n",
      "De acordo com os dados oficiais, a Kawasaki Ninja 1100 tem uma economia de combustível de aproximadamente 6,4 km/l (ou 15,6 mpg) em condições de estrada, enquanto o Honda Hornet 600 tem uma economia de aproximadamente 7,1 km/l (ou 16,4 mpg) em condições de estrada.\n",
      "\n",
      "No entanto, é importante notar que esses valores são apenas estimativas e podem variar dependendo do estilo de condução, do peso do condutor, do estado do motor e das condições de estrada.\n",
      "\n",
      "Em resumo, o Honda Hornet 600 é mais econômico que a Kawasaki Ninja 1100, especialmente em condições de estrada. No entanto, a Ninja 1100 é uma motocicleta mais potente e mais rápida, o que pode justificar o consumo de mais combustível.\n",
      "\n",
      "Lembre-se de que a economia de combustível é apenas um fator a considerar ao escolher uma motocicleta. Outros fatores importantes incluem a segurança, a manutenção, a performance e a comodidade.\n",
      "\n",
      "Encerrando assistente Agro ! Até mais ! \n",
      "\n"
     ]
    }
   ],
   "source": [
    "#Define sua chave da API do GROQ\n",
    "#GROQ_API_KEY = os.getenv('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')\n",
    "client = Groq(api_key='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')\n",
    "\n",
    "#Solicita que o usuario digite o prompt\n",
    "while True: \n",
    "\n",
    "    user_prompt=input(\"Digite sua pergunta sobre agricultura: \")\n",
    "    if user_prompt.strip() ==\"15\":\n",
    "        print('Encerrando assistente Agro ! Até mais ! \\n')\n",
    "        break\n",
    "    # Faz a solicitaçao ao modelo\n",
    "    completion = client.chat.completions.create(\n",
    "    #model=\"llama-3.2-1b-preview\",\n",
    "    model=\"llama3-8b-8192\",\n",
    "    messages=[\n",
    "    {\"role\":\"system\",\"content\":\"Voce é assistente de concessionaria de veiculos\"},\n",
    "    {\"role\":\"user\",\"content\":user_prompt}\n",
    "\n",
    "    ],  \n",
    "    temperature=0,\n",
    "    max_tokens=1024, #ajusta o token,\n",
    "    top_p=1,\n",
    "    stream = False\n",
    "\n",
    "    )\n",
    "# Exibe a resposta \n",
    "    print('\\n Resposta do assistente: \\n')\n",
    "    print(completion.choices[0].message.content + \"\\n\")"
   ]
  },
  {
   "cell_type": "code",
   "execution_count": null,
   "metadata": {},
   "outputs": [],
   "source": []
  }
 ],
 "metadata": {
  "kernelspec": {
   "display_name": "Python 3",
   "language": "python",
   "name": "python3"
  },
  "language_info": {
   "codemirror_mode": {
    "name": "ipython",
    "version": 3
   },
   "file_extension": ".py",
   "mimetype": "text/x-python",
   "name": "python",
   "nbconvert_exporter": "python",
   "pygments_lexer": "ipython3",
   "version": "3.13.1"
  }
 },
 "nbformat": 4,
 "nbformat_minor": 2
}
